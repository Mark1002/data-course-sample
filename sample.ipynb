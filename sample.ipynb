{
  "cells": [
    {
      "cell_type": "markdown",
      "metadata": {
        "id": "XsRbhy3kkDfL"
      },
      "source": [
        "# Sample Code"
      ],
      "id": "XsRbhy3kkDfL"
    },
    {
      "cell_type": "markdown",
      "metadata": {
        "id": "w6o2sd1pkDfN"
      },
      "source": [
        "## 基礎建設"
      ],
      "id": "w6o2sd1pkDfN"
    },
    {
      "cell_type": "code",
      "execution_count": 1,
      "metadata": {
        "scrolled": true,
        "id": "Uhtqy6NWkDfN"
      },
      "outputs": [],
      "source": [
        "import pandas as pd\n",
        "import gzip, json\n",
        "\n",
        "def parse(path):\n",
        "    g = gzip.open(path, 'rb')\n",
        "    for l in g:\n",
        "        yield json.loads(l)\n",
        "\n",
        "def getDF(path):\n",
        "    i = 0\n",
        "    df = {}\n",
        "    for d in parse(path):\n",
        "        df[i] = d\n",
        "        i += 1\n",
        "    return pd.DataFrame.from_dict(df, orient='index')"
      ],
      "id": "Uhtqy6NWkDfN"
    },
    {
      "cell_type": "markdown",
      "metadata": {
        "id": "0azGp_8JkDfP"
      },
      "source": [
        "## 載入資料"
      ],
      "id": "0azGp_8JkDfP"
    },
    {
      "cell_type": "code",
      "execution_count": 2,
      "metadata": {
        "colab": {
          "base_uri": "https://localhost:8080/"
        },
        "id": "q-7OfcJCkDfP",
        "outputId": "2e2ee7ae-520f-4cf0-e87a-1f842bc3fe20"
      },
      "outputs": [
        {
          "output_type": "stream",
          "name": "stdout",
          "text": [
            "--2021-12-25 13:38:25--  http://deepyeti.ucsd.edu/jianmo/amazon/categoryFilesSmall/All_Beauty.csv\n",
            "Resolving deepyeti.ucsd.edu (deepyeti.ucsd.edu)... 169.228.63.50\n",
            "Connecting to deepyeti.ucsd.edu (deepyeti.ucsd.edu)|169.228.63.50|:80... connected.\n",
            "HTTP request sent, awaiting response... 200 OK\n",
            "Length: 15499476 (15M) [application/octet-stream]\n",
            "Saving to: ‘All_Beauty.csv’\n",
            "\n",
            "All_Beauty.csv      100%[===================>]  14.78M  69.2MB/s    in 0.2s    \n",
            "\n",
            "2021-12-25 13:38:25 (69.2 MB/s) - ‘All_Beauty.csv’ saved [15499476/15499476]\n",
            "\n",
            "--2021-12-25 13:38:25--  http://deepyeti.ucsd.edu/jianmo/amazon/metaFiles2/meta_All_Beauty.json.gz\n",
            "Resolving deepyeti.ucsd.edu (deepyeti.ucsd.edu)... 169.228.63.50\n",
            "Connecting to deepyeti.ucsd.edu (deepyeti.ucsd.edu)|169.228.63.50|:80... connected.\n",
            "HTTP request sent, awaiting response... 200 OK\n",
            "Length: 10329961 (9.9M) [application/octet-stream]\n",
            "Saving to: ‘meta_All_Beauty.json.gz’\n",
            "\n",
            "meta_All_Beauty.jso 100%[===================>]   9.85M  61.9MB/s    in 0.2s    \n",
            "\n",
            "2021-12-25 13:38:26 (61.9 MB/s) - ‘meta_All_Beauty.json.gz’ saved [10329961/10329961]\n",
            "\n"
          ]
        }
      ],
      "source": [
        "!wget http://deepyeti.ucsd.edu/jianmo/amazon/categoryFilesSmall/All_Beauty.csv\n",
        "!wget http://deepyeti.ucsd.edu/jianmo/amazon/metaFiles2/meta_All_Beauty.json.gz"
      ],
      "id": "q-7OfcJCkDfP"
    },
    {
      "cell_type": "code",
      "execution_count": 3,
      "metadata": {
        "id": "Q3r_TYY5kDfP"
      },
      "outputs": [],
      "source": [
        "metadata = getDF('/content/meta_All_Beauty.json.gz')\n",
        "ratings = pd.read_csv('/content/All_Beauty.csv', names=['asin', 'reviewerID', 'overall', 'unixReviewTime'], header=None)"
      ],
      "id": "Q3r_TYY5kDfP"
    },
    {
      "cell_type": "code",
      "execution_count": 4,
      "metadata": {
        "colab": {
          "base_uri": "https://localhost:8080/",
          "height": 597
        },
        "id": "C-uNVIHtkDfP",
        "outputId": "18191195-d765-4258-dd4d-b6b734846528"
      },
      "outputs": [
        {
          "output_type": "execute_result",
          "data": {
            "text/html": [
              "\n",
              "  <div id=\"df-e223420b-8544-408e-8934-a17e09f9890a\">\n",
              "    <div class=\"colab-df-container\">\n",
              "      <div>\n",
              "<style scoped>\n",
              "    .dataframe tbody tr th:only-of-type {\n",
              "        vertical-align: middle;\n",
              "    }\n",
              "\n",
              "    .dataframe tbody tr th {\n",
              "        vertical-align: top;\n",
              "    }\n",
              "\n",
              "    .dataframe thead th {\n",
              "        text-align: right;\n",
              "    }\n",
              "</style>\n",
              "<table border=\"1\" class=\"dataframe\">\n",
              "  <thead>\n",
              "    <tr style=\"text-align: right;\">\n",
              "      <th></th>\n",
              "      <th>category</th>\n",
              "      <th>tech1</th>\n",
              "      <th>description</th>\n",
              "      <th>fit</th>\n",
              "      <th>title</th>\n",
              "      <th>also_buy</th>\n",
              "      <th>tech2</th>\n",
              "      <th>brand</th>\n",
              "      <th>feature</th>\n",
              "      <th>rank</th>\n",
              "      <th>also_view</th>\n",
              "      <th>details</th>\n",
              "      <th>main_cat</th>\n",
              "      <th>similar_item</th>\n",
              "      <th>date</th>\n",
              "      <th>price</th>\n",
              "      <th>asin</th>\n",
              "      <th>imageURL</th>\n",
              "      <th>imageURLHighRes</th>\n",
              "    </tr>\n",
              "  </thead>\n",
              "  <tbody>\n",
              "    <tr>\n",
              "      <th>0</th>\n",
              "      <td>[]</td>\n",
              "      <td></td>\n",
              "      <td>[Loud 'N Clear Personal Sound Amplifier allows...</td>\n",
              "      <td></td>\n",
              "      <td>Loud 'N Clear&amp;trade; Personal Sound Amplifier</td>\n",
              "      <td>[]</td>\n",
              "      <td></td>\n",
              "      <td>idea village</td>\n",
              "      <td>[]</td>\n",
              "      <td>2,938,573 in Beauty &amp; Personal Care (</td>\n",
              "      <td>[]</td>\n",
              "      <td>{'ASIN: ': '6546546450'}</td>\n",
              "      <td>All Beauty</td>\n",
              "      <td></td>\n",
              "      <td></td>\n",
              "      <td></td>\n",
              "      <td>6546546450</td>\n",
              "      <td>[]</td>\n",
              "      <td>[]</td>\n",
              "    </tr>\n",
              "    <tr>\n",
              "      <th>1</th>\n",
              "      <td>[]</td>\n",
              "      <td></td>\n",
              "      <td>[No7 Lift &amp; Luminate Triple Action Serum 50ml ...</td>\n",
              "      <td></td>\n",
              "      <td>No7 Lift &amp;amp; Luminate Triple Action Serum 50...</td>\n",
              "      <td>[B01E7LCSL6, B008X5RVME]</td>\n",
              "      <td></td>\n",
              "      <td></td>\n",
              "      <td>[]</td>\n",
              "      <td>872,854 in Beauty &amp; Personal Care (</td>\n",
              "      <td>[]</td>\n",
              "      <td>{'Shipping Weight:': '0.3 ounces (', 'ASIN: ':...</td>\n",
              "      <td>All Beauty</td>\n",
              "      <td>class=\"a-bordered a-horizontal-stripes  a-spa...</td>\n",
              "      <td></td>\n",
              "      <td>$44.99</td>\n",
              "      <td>7178680776</td>\n",
              "      <td>[]</td>\n",
              "      <td>[]</td>\n",
              "    </tr>\n",
              "    <tr>\n",
              "      <th>2</th>\n",
              "      <td>[]</td>\n",
              "      <td></td>\n",
              "      <td>[No7 Stay Perfect Foundation now stays perfect...</td>\n",
              "      <td></td>\n",
              "      <td>No7 Stay Perfect Foundation Cool Vanilla by No7</td>\n",
              "      <td>[]</td>\n",
              "      <td></td>\n",
              "      <td>No7</td>\n",
              "      <td>[]</td>\n",
              "      <td>956,696 in Beauty &amp; Personal Care (</td>\n",
              "      <td>[B01B8BR0O8, B01B8BR0NO, B014MHXXM8]</td>\n",
              "      <td>{'Shipping Weight:': '3.5 ounces (', 'ASIN: ':...</td>\n",
              "      <td>All Beauty</td>\n",
              "      <td></td>\n",
              "      <td></td>\n",
              "      <td>$28.76</td>\n",
              "      <td>7250468162</td>\n",
              "      <td>[]</td>\n",
              "      <td>[]</td>\n",
              "    </tr>\n",
              "    <tr>\n",
              "      <th>3</th>\n",
              "      <td>[]</td>\n",
              "      <td></td>\n",
              "      <td>[]</td>\n",
              "      <td></td>\n",
              "      <td>Wella Koleston Perfect Hair Colour 44/44 Mediu...</td>\n",
              "      <td>[B0041PBXX8]</td>\n",
              "      <td></td>\n",
              "      <td></td>\n",
              "      <td>[]</td>\n",
              "      <td>1,870,258 in Beauty &amp; Personal Care (</td>\n",
              "      <td>[]</td>\n",
              "      <td>{'\n",
              "    Item Weight: \n",
              "    ': '1.76 ounces', 'Sh...</td>\n",
              "      <td>All Beauty</td>\n",
              "      <td></td>\n",
              "      <td></td>\n",
              "      <td></td>\n",
              "      <td>7367905066</td>\n",
              "      <td>[https://images-na.ssl-images-amazon.com/image...</td>\n",
              "      <td>[https://images-na.ssl-images-amazon.com/image...</td>\n",
              "    </tr>\n",
              "    <tr>\n",
              "      <th>4</th>\n",
              "      <td>[]</td>\n",
              "      <td></td>\n",
              "      <td>[Lacto Calamine Skin Balance Daily Nourishing ...</td>\n",
              "      <td></td>\n",
              "      <td>Lacto Calamine Skin Balance Oil control 120 ml...</td>\n",
              "      <td>[]</td>\n",
              "      <td></td>\n",
              "      <td>Pirmal Healthcare</td>\n",
              "      <td>[]</td>\n",
              "      <td>67,701 in Beauty &amp; Personal Care (</td>\n",
              "      <td>[3254895630, B007VL1D9S, B00EH9A0RI, B0773MBG4...</td>\n",
              "      <td>{'Shipping Weight:': '12 ounces (', 'ASIN: ': ...</td>\n",
              "      <td>All Beauty</td>\n",
              "      <td></td>\n",
              "      <td></td>\n",
              "      <td>$12.15</td>\n",
              "      <td>7414204790</td>\n",
              "      <td>[https://images-na.ssl-images-amazon.com/image...</td>\n",
              "      <td>[https://images-na.ssl-images-amazon.com/image...</td>\n",
              "    </tr>\n",
              "  </tbody>\n",
              "</table>\n",
              "</div>\n",
              "      <button class=\"colab-df-convert\" onclick=\"convertToInteractive('df-e223420b-8544-408e-8934-a17e09f9890a')\"\n",
              "              title=\"Convert this dataframe to an interactive table.\"\n",
              "              style=\"display:none;\">\n",
              "        \n",
              "  <svg xmlns=\"http://www.w3.org/2000/svg\" height=\"24px\"viewBox=\"0 0 24 24\"\n",
              "       width=\"24px\">\n",
              "    <path d=\"M0 0h24v24H0V0z\" fill=\"none\"/>\n",
              "    <path d=\"M18.56 5.44l.94 2.06.94-2.06 2.06-.94-2.06-.94-.94-2.06-.94 2.06-2.06.94zm-11 1L8.5 8.5l.94-2.06 2.06-.94-2.06-.94L8.5 2.5l-.94 2.06-2.06.94zm10 10l.94 2.06.94-2.06 2.06-.94-2.06-.94-.94-2.06-.94 2.06-2.06.94z\"/><path d=\"M17.41 7.96l-1.37-1.37c-.4-.4-.92-.59-1.43-.59-.52 0-1.04.2-1.43.59L10.3 9.45l-7.72 7.72c-.78.78-.78 2.05 0 2.83L4 21.41c.39.39.9.59 1.41.59.51 0 1.02-.2 1.41-.59l7.78-7.78 2.81-2.81c.8-.78.8-2.07 0-2.86zM5.41 20L4 18.59l7.72-7.72 1.47 1.35L5.41 20z\"/>\n",
              "  </svg>\n",
              "      </button>\n",
              "      \n",
              "  <style>\n",
              "    .colab-df-container {\n",
              "      display:flex;\n",
              "      flex-wrap:wrap;\n",
              "      gap: 12px;\n",
              "    }\n",
              "\n",
              "    .colab-df-convert {\n",
              "      background-color: #E8F0FE;\n",
              "      border: none;\n",
              "      border-radius: 50%;\n",
              "      cursor: pointer;\n",
              "      display: none;\n",
              "      fill: #1967D2;\n",
              "      height: 32px;\n",
              "      padding: 0 0 0 0;\n",
              "      width: 32px;\n",
              "    }\n",
              "\n",
              "    .colab-df-convert:hover {\n",
              "      background-color: #E2EBFA;\n",
              "      box-shadow: 0px 1px 2px rgba(60, 64, 67, 0.3), 0px 1px 3px 1px rgba(60, 64, 67, 0.15);\n",
              "      fill: #174EA6;\n",
              "    }\n",
              "\n",
              "    [theme=dark] .colab-df-convert {\n",
              "      background-color: #3B4455;\n",
              "      fill: #D2E3FC;\n",
              "    }\n",
              "\n",
              "    [theme=dark] .colab-df-convert:hover {\n",
              "      background-color: #434B5C;\n",
              "      box-shadow: 0px 1px 3px 1px rgba(0, 0, 0, 0.15);\n",
              "      filter: drop-shadow(0px 1px 2px rgba(0, 0, 0, 0.3));\n",
              "      fill: #FFFFFF;\n",
              "    }\n",
              "  </style>\n",
              "\n",
              "      <script>\n",
              "        const buttonEl =\n",
              "          document.querySelector('#df-e223420b-8544-408e-8934-a17e09f9890a button.colab-df-convert');\n",
              "        buttonEl.style.display =\n",
              "          google.colab.kernel.accessAllowed ? 'block' : 'none';\n",
              "\n",
              "        async function convertToInteractive(key) {\n",
              "          const element = document.querySelector('#df-e223420b-8544-408e-8934-a17e09f9890a');\n",
              "          const dataTable =\n",
              "            await google.colab.kernel.invokeFunction('convertToInteractive',\n",
              "                                                     [key], {});\n",
              "          if (!dataTable) return;\n",
              "\n",
              "          const docLinkHtml = 'Like what you see? Visit the ' +\n",
              "            '<a target=\"_blank\" href=https://colab.research.google.com/notebooks/data_table.ipynb>data table notebook</a>'\n",
              "            + ' to learn more about interactive tables.';\n",
              "          element.innerHTML = '';\n",
              "          dataTable['output_type'] = 'display_data';\n",
              "          await google.colab.output.renderOutput(dataTable, element);\n",
              "          const docLink = document.createElement('div');\n",
              "          docLink.innerHTML = docLinkHtml;\n",
              "          element.appendChild(docLink);\n",
              "        }\n",
              "      </script>\n",
              "    </div>\n",
              "  </div>\n",
              "  "
            ],
            "text/plain": [
              "  category  ...                                    imageURLHighRes\n",
              "0       []  ...                                                 []\n",
              "1       []  ...                                                 []\n",
              "2       []  ...                                                 []\n",
              "3       []  ...  [https://images-na.ssl-images-amazon.com/image...\n",
              "4       []  ...  [https://images-na.ssl-images-amazon.com/image...\n",
              "\n",
              "[5 rows x 19 columns]"
            ]
          },
          "metadata": {},
          "execution_count": 4
        }
      ],
      "source": [
        "metadata.head()"
      ],
      "id": "C-uNVIHtkDfP"
    },
    {
      "cell_type": "code",
      "execution_count": 5,
      "metadata": {
        "colab": {
          "base_uri": "https://localhost:8080/",
          "height": 206
        },
        "id": "DaS6g8BdkDfQ",
        "outputId": "8e6668dc-7599-4dd3-93d4-e37483d661de"
      },
      "outputs": [
        {
          "output_type": "execute_result",
          "data": {
            "text/html": [
              "\n",
              "  <div id=\"df-790d3b50-4528-4493-b228-0fb8566eb6b2\">\n",
              "    <div class=\"colab-df-container\">\n",
              "      <div>\n",
              "<style scoped>\n",
              "    .dataframe tbody tr th:only-of-type {\n",
              "        vertical-align: middle;\n",
              "    }\n",
              "\n",
              "    .dataframe tbody tr th {\n",
              "        vertical-align: top;\n",
              "    }\n",
              "\n",
              "    .dataframe thead th {\n",
              "        text-align: right;\n",
              "    }\n",
              "</style>\n",
              "<table border=\"1\" class=\"dataframe\">\n",
              "  <thead>\n",
              "    <tr style=\"text-align: right;\">\n",
              "      <th></th>\n",
              "      <th>asin</th>\n",
              "      <th>reviewerID</th>\n",
              "      <th>overall</th>\n",
              "      <th>unixReviewTime</th>\n",
              "    </tr>\n",
              "  </thead>\n",
              "  <tbody>\n",
              "    <tr>\n",
              "      <th>0</th>\n",
              "      <td>0143026860</td>\n",
              "      <td>A1V6B6TNIC10QE</td>\n",
              "      <td>1.0</td>\n",
              "      <td>1424304000</td>\n",
              "    </tr>\n",
              "    <tr>\n",
              "      <th>1</th>\n",
              "      <td>0143026860</td>\n",
              "      <td>A2F5GHSXFQ0W6J</td>\n",
              "      <td>4.0</td>\n",
              "      <td>1418860800</td>\n",
              "    </tr>\n",
              "    <tr>\n",
              "      <th>2</th>\n",
              "      <td>0143026860</td>\n",
              "      <td>A1572GUYS7DGSR</td>\n",
              "      <td>4.0</td>\n",
              "      <td>1407628800</td>\n",
              "    </tr>\n",
              "    <tr>\n",
              "      <th>3</th>\n",
              "      <td>0143026860</td>\n",
              "      <td>A1PSGLFK1NSVO</td>\n",
              "      <td>5.0</td>\n",
              "      <td>1362960000</td>\n",
              "    </tr>\n",
              "    <tr>\n",
              "      <th>4</th>\n",
              "      <td>0143026860</td>\n",
              "      <td>A6IKXKZMTKGSC</td>\n",
              "      <td>5.0</td>\n",
              "      <td>1324771200</td>\n",
              "    </tr>\n",
              "  </tbody>\n",
              "</table>\n",
              "</div>\n",
              "      <button class=\"colab-df-convert\" onclick=\"convertToInteractive('df-790d3b50-4528-4493-b228-0fb8566eb6b2')\"\n",
              "              title=\"Convert this dataframe to an interactive table.\"\n",
              "              style=\"display:none;\">\n",
              "        \n",
              "  <svg xmlns=\"http://www.w3.org/2000/svg\" height=\"24px\"viewBox=\"0 0 24 24\"\n",
              "       width=\"24px\">\n",
              "    <path d=\"M0 0h24v24H0V0z\" fill=\"none\"/>\n",
              "    <path d=\"M18.56 5.44l.94 2.06.94-2.06 2.06-.94-2.06-.94-.94-2.06-.94 2.06-2.06.94zm-11 1L8.5 8.5l.94-2.06 2.06-.94-2.06-.94L8.5 2.5l-.94 2.06-2.06.94zm10 10l.94 2.06.94-2.06 2.06-.94-2.06-.94-.94-2.06-.94 2.06-2.06.94z\"/><path d=\"M17.41 7.96l-1.37-1.37c-.4-.4-.92-.59-1.43-.59-.52 0-1.04.2-1.43.59L10.3 9.45l-7.72 7.72c-.78.78-.78 2.05 0 2.83L4 21.41c.39.39.9.59 1.41.59.51 0 1.02-.2 1.41-.59l7.78-7.78 2.81-2.81c.8-.78.8-2.07 0-2.86zM5.41 20L4 18.59l7.72-7.72 1.47 1.35L5.41 20z\"/>\n",
              "  </svg>\n",
              "      </button>\n",
              "      \n",
              "  <style>\n",
              "    .colab-df-container {\n",
              "      display:flex;\n",
              "      flex-wrap:wrap;\n",
              "      gap: 12px;\n",
              "    }\n",
              "\n",
              "    .colab-df-convert {\n",
              "      background-color: #E8F0FE;\n",
              "      border: none;\n",
              "      border-radius: 50%;\n",
              "      cursor: pointer;\n",
              "      display: none;\n",
              "      fill: #1967D2;\n",
              "      height: 32px;\n",
              "      padding: 0 0 0 0;\n",
              "      width: 32px;\n",
              "    }\n",
              "\n",
              "    .colab-df-convert:hover {\n",
              "      background-color: #E2EBFA;\n",
              "      box-shadow: 0px 1px 2px rgba(60, 64, 67, 0.3), 0px 1px 3px 1px rgba(60, 64, 67, 0.15);\n",
              "      fill: #174EA6;\n",
              "    }\n",
              "\n",
              "    [theme=dark] .colab-df-convert {\n",
              "      background-color: #3B4455;\n",
              "      fill: #D2E3FC;\n",
              "    }\n",
              "\n",
              "    [theme=dark] .colab-df-convert:hover {\n",
              "      background-color: #434B5C;\n",
              "      box-shadow: 0px 1px 3px 1px rgba(0, 0, 0, 0.15);\n",
              "      filter: drop-shadow(0px 1px 2px rgba(0, 0, 0, 0.3));\n",
              "      fill: #FFFFFF;\n",
              "    }\n",
              "  </style>\n",
              "\n",
              "      <script>\n",
              "        const buttonEl =\n",
              "          document.querySelector('#df-790d3b50-4528-4493-b228-0fb8566eb6b2 button.colab-df-convert');\n",
              "        buttonEl.style.display =\n",
              "          google.colab.kernel.accessAllowed ? 'block' : 'none';\n",
              "\n",
              "        async function convertToInteractive(key) {\n",
              "          const element = document.querySelector('#df-790d3b50-4528-4493-b228-0fb8566eb6b2');\n",
              "          const dataTable =\n",
              "            await google.colab.kernel.invokeFunction('convertToInteractive',\n",
              "                                                     [key], {});\n",
              "          if (!dataTable) return;\n",
              "\n",
              "          const docLinkHtml = 'Like what you see? Visit the ' +\n",
              "            '<a target=\"_blank\" href=https://colab.research.google.com/notebooks/data_table.ipynb>data table notebook</a>'\n",
              "            + ' to learn more about interactive tables.';\n",
              "          element.innerHTML = '';\n",
              "          dataTable['output_type'] = 'display_data';\n",
              "          await google.colab.output.renderOutput(dataTable, element);\n",
              "          const docLink = document.createElement('div');\n",
              "          docLink.innerHTML = docLinkHtml;\n",
              "          element.appendChild(docLink);\n",
              "        }\n",
              "      </script>\n",
              "    </div>\n",
              "  </div>\n",
              "  "
            ],
            "text/plain": [
              "         asin      reviewerID  overall  unixReviewTime\n",
              "0  0143026860  A1V6B6TNIC10QE      1.0      1424304000\n",
              "1  0143026860  A2F5GHSXFQ0W6J      4.0      1418860800\n",
              "2  0143026860  A1572GUYS7DGSR      4.0      1407628800\n",
              "3  0143026860   A1PSGLFK1NSVO      5.0      1362960000\n",
              "4  0143026860   A6IKXKZMTKGSC      5.0      1324771200"
            ]
          },
          "metadata": {},
          "execution_count": 5
        }
      ],
      "source": [
        "ratings.head()"
      ],
      "id": "DaS6g8BdkDfQ"
    },
    {
      "cell_type": "code",
      "source": [
        "ratings.count()"
      ],
      "metadata": {
        "colab": {
          "base_uri": "https://localhost:8080/"
        },
        "id": "ZnMlKEVeU6Rm",
        "outputId": "5a474b74-f9a1-4548-e322-56599a39adc0"
      },
      "id": "ZnMlKEVeU6Rm",
      "execution_count": 6,
      "outputs": [
        {
          "output_type": "execute_result",
          "data": {
            "text/plain": [
              "asin              371345\n",
              "reviewerID        371345\n",
              "overall           371345\n",
              "unixReviewTime    371345\n",
              "dtype: int64"
            ]
          },
          "metadata": {},
          "execution_count": 6
        }
      ]
    },
    {
      "cell_type": "markdown",
      "source": [
        "* **reviewerID** - ID of the reviewer, e.g. A2SUAM1J3GNN3B ← 用戶 ID\n",
        "* **asin** - ID of the product, e.g. 0000013714 ← 商品 ID\n",
        "* **overall** - rating of the product ← 用戶對商品的評分\n",
        "* **unixReviewTime** - time of the review (unix time) ← 留下評論的時間戳記\n"
      ],
      "metadata": {
        "id": "fFwgFYCoknkn"
      },
      "id": "fFwgFYCoknkn"
    },
    {
      "cell_type": "markdown",
      "metadata": {
        "id": "VYBcp5G2kDfQ"
      },
      "source": [
        "## 資料整理"
      ],
      "id": "VYBcp5G2kDfQ"
    },
    {
      "cell_type": "code",
      "execution_count": 7,
      "metadata": {
        "id": "15NGI9V2kDfR"
      },
      "outputs": [],
      "source": [
        "ratings['DATE'] = pd.to_datetime(ratings['unixReviewTime'], unit='s')"
      ],
      "id": "15NGI9V2kDfR"
    },
    {
      "cell_type": "markdown",
      "metadata": {
        "id": "_OGyP1QxkDfR"
      },
      "source": [
        "## 資料切分"
      ],
      "id": "_OGyP1QxkDfR"
    },
    {
      "cell_type": "code",
      "execution_count": 66,
      "metadata": {
        "id": "yPntln2BkDfR"
      },
      "outputs": [],
      "source": [
        "ratings_trainings = ratings[\n",
        "    (ratings['DATE'] < '2018-09-01')\n",
        "]\n",
        "ratings_testings = ratings[\n",
        "    (ratings['DATE'] >= '2018-09-01') & \n",
        "    (ratings['DATE'] <= '2018-09-30')\n",
        "]\n",
        "ratings_testings_by_user = ratings_testings.groupby('reviewerID').agg(list).reset_index()[['reviewerID', 'asin']].to_dict('records')\n",
        "ratings_testings_by_user = { rating['reviewerID']: rating['asin'] for rating in ratings_testings_by_user }\n",
        "users = list(ratings_testings_by_user.keys())"
      ],
      "id": "yPntln2BkDfR"
    },
    {
      "cell_type": "markdown",
      "metadata": {
        "id": "ZVZwgjcmkDfS"
      },
      "source": [
        "## 產生推薦"
      ],
      "id": "ZVZwgjcmkDfS"
    },
    {
      "cell_type": "code",
      "source": [
        "# 共 584 test users\n",
        "len(users)"
      ],
      "metadata": {
        "colab": {
          "base_uri": "https://localhost:8080/"
        },
        "id": "brMhStRMcX9I",
        "outputId": "e2b8a98a-3509-4799-ded4-d360305fd6bf"
      },
      "id": "brMhStRMcX9I",
      "execution_count": 9,
      "outputs": [
        {
          "output_type": "execute_result",
          "data": {
            "text/plain": [
              "584"
            ]
          },
          "metadata": {},
          "execution_count": 9
        }
      ]
    },
    {
      "cell_type": "code",
      "source": [
        "# train data只含有53筆 test users 購買紀錄\n",
        "len(ratings_trainings.loc[ratings_trainings[\"reviewerID\"].isin(users),:])"
      ],
      "metadata": {
        "colab": {
          "base_uri": "https://localhost:8080/"
        },
        "id": "TVgZw1zmcI7Y",
        "outputId": "a061e2ab-ed09-4116-90eb-4807e9c80d1d"
      },
      "id": "TVgZw1zmcI7Y",
      "execution_count": 10,
      "outputs": [
        {
          "output_type": "execute_result",
          "data": {
            "text/plain": [
              "53"
            ]
          },
          "metadata": {},
          "execution_count": 10
        }
      ]
    },
    {
      "cell_type": "markdown",
      "source": [
        "# rule based 思路\n",
        "1. 檢查測試的使用者名單中有無在訓練資料裡有其過去的購買紀錄，如果有就可以分析其過去的購買行為來進行推薦，最後發現共有53筆過去有購買紀錄的使用者。\n",
        "2. 對於53筆過去有購買紀錄的使用者，根據他們以前購買過的商品(asin) 做推薦。\n",
        "  *   從他們的購買過的商品去 join 查找 metadata 中 also view & aslo buy item 資訊。\n",
        "      並針對 overall 排序取其 k 個 item 推薦。\n",
        "  *   若取不滿 k 個則加入 overall 隨機推薦。\n",
        "\n",
        "3. 對於新的使用者，因為沒有過去的購買行為資料，所以依照商品本身的 overall 隨機推薦。\n",
        "\n",
        "4. overall推薦從加總overall分數高低優先推薦最近評價高的新品。\n",
        "\n"
      ],
      "metadata": {
        "id": "LUp458WKiOjT"
      },
      "id": "LUp458WKiOjT"
    },
    {
      "cell_type": "code",
      "source": [
        "ratings_trainings[['asin', 'overall']].groupby('asin').sum().reset_index().sort_values(\"overall\", ascending=False, ignore_index=True)"
      ],
      "metadata": {
        "id": "GociTv1_2T7d",
        "outputId": "d5645fab-c8d1-4b83-f388-d669d18a853f",
        "colab": {
          "base_uri": "https://localhost:8080/",
          "height": 424
        }
      },
      "id": "GociTv1_2T7d",
      "execution_count": 42,
      "outputs": [
        {
          "output_type": "execute_result",
          "data": {
            "text/html": [
              "\n",
              "  <div id=\"df-fdd1f826-f235-4efc-9366-14827809251b\">\n",
              "    <div class=\"colab-df-container\">\n",
              "      <div>\n",
              "<style scoped>\n",
              "    .dataframe tbody tr th:only-of-type {\n",
              "        vertical-align: middle;\n",
              "    }\n",
              "\n",
              "    .dataframe tbody tr th {\n",
              "        vertical-align: top;\n",
              "    }\n",
              "\n",
              "    .dataframe thead th {\n",
              "        text-align: right;\n",
              "    }\n",
              "</style>\n",
              "<table border=\"1\" class=\"dataframe\">\n",
              "  <thead>\n",
              "    <tr style=\"text-align: right;\">\n",
              "      <th></th>\n",
              "      <th>asin</th>\n",
              "      <th>overall</th>\n",
              "    </tr>\n",
              "  </thead>\n",
              "  <tbody>\n",
              "    <tr>\n",
              "      <th>0</th>\n",
              "      <td>B000FOI48G</td>\n",
              "      <td>38100.0</td>\n",
              "    </tr>\n",
              "    <tr>\n",
              "      <th>1</th>\n",
              "      <td>B000GLRREU</td>\n",
              "      <td>36743.0</td>\n",
              "    </tr>\n",
              "    <tr>\n",
              "      <th>2</th>\n",
              "      <td>1620213982</td>\n",
              "      <td>22994.0</td>\n",
              "    </tr>\n",
              "    <tr>\n",
              "      <th>3</th>\n",
              "      <td>B001QY8QXM</td>\n",
              "      <td>20703.0</td>\n",
              "    </tr>\n",
              "    <tr>\n",
              "      <th>4</th>\n",
              "      <td>B01DKQAXC0</td>\n",
              "      <td>17679.0</td>\n",
              "    </tr>\n",
              "    <tr>\n",
              "      <th>...</th>\n",
              "      <td>...</td>\n",
              "      <td>...</td>\n",
              "    </tr>\n",
              "    <tr>\n",
              "      <th>32577</th>\n",
              "      <td>B01AVG6704</td>\n",
              "      <td>1.0</td>\n",
              "    </tr>\n",
              "    <tr>\n",
              "      <th>32578</th>\n",
              "      <td>B017CWLDZO</td>\n",
              "      <td>1.0</td>\n",
              "    </tr>\n",
              "    <tr>\n",
              "      <th>32579</th>\n",
              "      <td>B00KAUN66U</td>\n",
              "      <td>1.0</td>\n",
              "    </tr>\n",
              "    <tr>\n",
              "      <th>32580</th>\n",
              "      <td>B01AVJ16R0</td>\n",
              "      <td>1.0</td>\n",
              "    </tr>\n",
              "    <tr>\n",
              "      <th>32581</th>\n",
              "      <td>B00JV9F6FU</td>\n",
              "      <td>1.0</td>\n",
              "    </tr>\n",
              "  </tbody>\n",
              "</table>\n",
              "<p>32582 rows × 2 columns</p>\n",
              "</div>\n",
              "      <button class=\"colab-df-convert\" onclick=\"convertToInteractive('df-fdd1f826-f235-4efc-9366-14827809251b')\"\n",
              "              title=\"Convert this dataframe to an interactive table.\"\n",
              "              style=\"display:none;\">\n",
              "        \n",
              "  <svg xmlns=\"http://www.w3.org/2000/svg\" height=\"24px\"viewBox=\"0 0 24 24\"\n",
              "       width=\"24px\">\n",
              "    <path d=\"M0 0h24v24H0V0z\" fill=\"none\"/>\n",
              "    <path d=\"M18.56 5.44l.94 2.06.94-2.06 2.06-.94-2.06-.94-.94-2.06-.94 2.06-2.06.94zm-11 1L8.5 8.5l.94-2.06 2.06-.94-2.06-.94L8.5 2.5l-.94 2.06-2.06.94zm10 10l.94 2.06.94-2.06 2.06-.94-2.06-.94-.94-2.06-.94 2.06-2.06.94z\"/><path d=\"M17.41 7.96l-1.37-1.37c-.4-.4-.92-.59-1.43-.59-.52 0-1.04.2-1.43.59L10.3 9.45l-7.72 7.72c-.78.78-.78 2.05 0 2.83L4 21.41c.39.39.9.59 1.41.59.51 0 1.02-.2 1.41-.59l7.78-7.78 2.81-2.81c.8-.78.8-2.07 0-2.86zM5.41 20L4 18.59l7.72-7.72 1.47 1.35L5.41 20z\"/>\n",
              "  </svg>\n",
              "      </button>\n",
              "      \n",
              "  <style>\n",
              "    .colab-df-container {\n",
              "      display:flex;\n",
              "      flex-wrap:wrap;\n",
              "      gap: 12px;\n",
              "    }\n",
              "\n",
              "    .colab-df-convert {\n",
              "      background-color: #E8F0FE;\n",
              "      border: none;\n",
              "      border-radius: 50%;\n",
              "      cursor: pointer;\n",
              "      display: none;\n",
              "      fill: #1967D2;\n",
              "      height: 32px;\n",
              "      padding: 0 0 0 0;\n",
              "      width: 32px;\n",
              "    }\n",
              "\n",
              "    .colab-df-convert:hover {\n",
              "      background-color: #E2EBFA;\n",
              "      box-shadow: 0px 1px 2px rgba(60, 64, 67, 0.3), 0px 1px 3px 1px rgba(60, 64, 67, 0.15);\n",
              "      fill: #174EA6;\n",
              "    }\n",
              "\n",
              "    [theme=dark] .colab-df-convert {\n",
              "      background-color: #3B4455;\n",
              "      fill: #D2E3FC;\n",
              "    }\n",
              "\n",
              "    [theme=dark] .colab-df-convert:hover {\n",
              "      background-color: #434B5C;\n",
              "      box-shadow: 0px 1px 3px 1px rgba(0, 0, 0, 0.15);\n",
              "      filter: drop-shadow(0px 1px 2px rgba(0, 0, 0, 0.3));\n",
              "      fill: #FFFFFF;\n",
              "    }\n",
              "  </style>\n",
              "\n",
              "      <script>\n",
              "        const buttonEl =\n",
              "          document.querySelector('#df-fdd1f826-f235-4efc-9366-14827809251b button.colab-df-convert');\n",
              "        buttonEl.style.display =\n",
              "          google.colab.kernel.accessAllowed ? 'block' : 'none';\n",
              "\n",
              "        async function convertToInteractive(key) {\n",
              "          const element = document.querySelector('#df-fdd1f826-f235-4efc-9366-14827809251b');\n",
              "          const dataTable =\n",
              "            await google.colab.kernel.invokeFunction('convertToInteractive',\n",
              "                                                     [key], {});\n",
              "          if (!dataTable) return;\n",
              "\n",
              "          const docLinkHtml = 'Like what you see? Visit the ' +\n",
              "            '<a target=\"_blank\" href=https://colab.research.google.com/notebooks/data_table.ipynb>data table notebook</a>'\n",
              "            + ' to learn more about interactive tables.';\n",
              "          element.innerHTML = '';\n",
              "          dataTable['output_type'] = 'display_data';\n",
              "          await google.colab.output.renderOutput(dataTable, element);\n",
              "          const docLink = document.createElement('div');\n",
              "          docLink.innerHTML = docLinkHtml;\n",
              "          element.appendChild(docLink);\n",
              "        }\n",
              "      </script>\n",
              "    </div>\n",
              "  </div>\n",
              "  "
            ],
            "text/plain": [
              "             asin  overall\n",
              "0      B000FOI48G  38100.0\n",
              "1      B000GLRREU  36743.0\n",
              "2      1620213982  22994.0\n",
              "3      B001QY8QXM  20703.0\n",
              "4      B01DKQAXC0  17679.0\n",
              "...           ...      ...\n",
              "32577  B01AVG6704      1.0\n",
              "32578  B017CWLDZO      1.0\n",
              "32579  B00KAUN66U      1.0\n",
              "32580  B01AVJ16R0      1.0\n",
              "32581  B00JV9F6FU      1.0\n",
              "\n",
              "[32582 rows x 2 columns]"
            ]
          },
          "metadata": {},
          "execution_count": 42
        }
      ]
    },
    {
      "cell_type": "code",
      "execution_count": 82,
      "metadata": {
        "id": "wS1qqFpkkDfS"
      },
      "outputs": [],
      "source": [
        "from typing import List, Dict\n",
        "\n",
        "def recommender(\n",
        "    training_data: pd.DataFrame,\n",
        "    users: List[str] = [],\n",
        "    k: int = 10,\n",
        "    start_time: str = \"1970-01-01\"\n",
        ") -> Dict[str, List[str]]:\n",
        "    '''\n",
        "    * training_data: dataframe 輸入的訓練資料集（2018-09-01 以前資料）\n",
        "    * users: [] 需要被推薦的使用者\n",
        "    * k: int 每個使用者需要推薦的商品數\n",
        "    * recommendations: dict\n",
        "      {\n",
        "          使用者一： [推薦商品一, 推薦商品二, ...],\n",
        "          使用者二： [...], ...\n",
        "      }\n",
        "    '''\n",
        "    join_df = ratings_trainings.join(metadata[['asin', 'also_buy', 'also_view']].set_index('asin'), on='asin')\n",
        "    # 針對過去有購買紀錄的 user 推薦\n",
        "    temp_df = join_df.loc[join_df[\"reviewerID\"].isin(users),:].reset_index().drop_duplicates(subset=['index'])\n",
        "    # 檢查時間範圍是否會影響\n",
        "    overall_df = ratings_trainings.loc[ratings_trainings['DATE'] > start_time]\n",
        "    # 找出最熱門的商品來推薦\n",
        "    overall_df = overall_df[['asin', 'overall']].groupby('asin').sum().reset_index().sort_values(\"overall\", ascending=False, ignore_index=True)\n",
        "\n",
        "    def make_recommend(row) -> list:\n",
        "      # 將過去瀏覽或購買的紀錄都加入其中去考慮\n",
        "      items = list(set((row['also_buy'] + row['also_view'])))\n",
        "      # 如果沒有過去瀏覽或購買的紀錄或不足 k 則推薦 top k items\n",
        "      if len(items) < k:\n",
        "        items = items + overall_df['asin'][:k].tolist()\n",
        "      return items[:k]\n",
        "\n",
        "    temp_df[\"recommend\"] = temp_df.apply(make_recommend, axis=1)\n",
        "    temp_df = temp_df[['reviewerID', 'recommend']]\n",
        "    past_users_recommand = temp_df.to_dict(\"records\")\n",
        "\n",
        "    # TODO 針對沒有瀏覽歷史紀錄的新客戶\n",
        "    new_users = list(set(users) - set(temp_df['reviewerID']))\n",
        "    new_users_recommand = [\n",
        "      {\n",
        "        \"reviewerID\": user,\n",
        "        \"recommend\": overall_df['asin'][:k].tolist()\n",
        "      } for user in new_users\n",
        "    ]\n",
        "    recommend = new_users_recommand + past_users_recommand\n",
        "    recommendations = {\n",
        "        recom[\"reviewerID\"]: recom[\"recommend\"] for recom in recommend\n",
        "    }\n",
        "    return recommendations"
      ],
      "id": "wS1qqFpkkDfS"
    },
    {
      "cell_type": "markdown",
      "metadata": {
        "id": "N7hVlgxhkDfS"
      },
      "source": [
        "## 結果評估"
      ],
      "id": "N7hVlgxhkDfS"
    },
    {
      "cell_type": "code",
      "execution_count": 54,
      "metadata": {
        "id": "LZjJdrwOkDfS"
      },
      "outputs": [],
      "source": [
        "from typing import Optional\n",
        "\n",
        "def evaluate(\n",
        "    ratings_testings_by_user: Dict[str, List[str]] = {},\n",
        "    ratings_by_user: Dict[str, List[str]] = {},\n",
        "    method :Optional[str] = None\n",
        ") -> float:\n",
        "    '''\n",
        "    * ratings_testings_by_user: dict 真實被購買的商品資料（2018-09-01 以後資料）\n",
        "    * ratings_by_user: dict 利用訓練資料學習的推薦商品\n",
        "    * method: str\n",
        "    * score: float\n",
        "    '''\n",
        "    total = 0\n",
        "    for receiveID in ratings_testings_by_user:\n",
        "        if receiveID in ratings_by_user:\n",
        "            # 測試與訓練共同購買商品 id list 的交集\n",
        "            total += len(\n",
        "                set(ratings_by_user[receiveID]) & set(ratings_testings_by_user[receiveID])\n",
        "            )\n",
        "\n",
        "    score = total / len(ratings_testings)\n",
        "    return score"
      ],
      "id": "LZjJdrwOkDfS"
    },
    {
      "cell_type": "code",
      "source": [
        "start_times = [\"2017-01-01\", \"2018-01-01\", \"2018-06-01\", \"2018-08-01\"]\n",
        "for start_time in start_times:\n",
        "  ratings_by_user = recommender(ratings_trainings, users, 10, start_time)\n",
        "  score = evaluate(ratings_testings_by_user, ratings_by_user)\n",
        "  print(f\"start_time: {start_time}, score: {score}\")"
      ],
      "metadata": {
        "id": "MpMODcwb46lf",
        "outputId": "0813e7f7-d7e4-4a48-d8e9-3c3058d0c302",
        "colab": {
          "base_uri": "https://localhost:8080/"
        }
      },
      "id": "MpMODcwb46lf",
      "execution_count": 89,
      "outputs": [
        {
          "output_type": "stream",
          "name": "stdout",
          "text": [
            "start_time: 2017-01-01, score: 0.09491525423728814\n",
            "start_time: 2018-01-01, score: 0.09661016949152543\n",
            "start_time: 2018-06-01, score: 0.13220338983050847\n",
            "start_time: 2018-08-01, score: 0.14067796610169492\n"
          ]
        }
      ]
    },
    {
      "cell_type": "markdown",
      "source": [
        "# 結論\n",
        "1. 針對5星評等中物品中用隨機推薦的方法變動幅度很大\n",
        "\n",
        "2. 利用過去瀏覽或購買的紀錄來推薦看起來命中幅度不高\n",
        "\n",
        "3. 用平均得到的評分推薦不佳，用評分加總的方式分數比較好\n",
        "\n",
        "4. 最近時間對於推薦影響非常大，只用最近一個月的資料推薦(8-9)月效果最好 score: 0.14"
      ],
      "metadata": {
        "id": "t8Bmec7TI4Wh"
      },
      "id": "t8Bmec7TI4Wh"
    }
  ],
  "metadata": {
    "kernelspec": {
      "display_name": "Python 3",
      "language": "python",
      "name": "python3"
    },
    "language_info": {
      "codemirror_mode": {
        "name": "ipython",
        "version": 3
      },
      "file_extension": ".py",
      "mimetype": "text/x-python",
      "name": "python",
      "nbconvert_exporter": "python",
      "pygments_lexer": "ipython3",
      "version": "3.6.5"
    },
    "colab": {
      "name": "sample.ipynb",
      "provenance": []
    }
  },
  "nbformat": 4,
  "nbformat_minor": 5
}